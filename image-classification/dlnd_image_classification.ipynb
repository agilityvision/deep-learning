{
 "cells": [
  {
   "cell_type": "markdown",
   "metadata": {
    "collapsed": true
   },
   "source": [
    "# Image Classification\n",
    "In this project, you'll classify images from the [CIFAR-10 dataset](https://www.cs.toronto.edu/~kriz/cifar.html).  The dataset consists of airplanes, dogs, cats, and other objects. You'll preprocess the images, then train a convolutional neural network on all the samples. The images need to be normalized and the labels need to be one-hot encoded.  You'll get to apply what you learned and build a convolutional, max pooling, dropout, and fully connected layers.  At the end, you'll get to see your neural network's predictions on the sample images.\n",
    "## Get the Data\n",
    "Run the following cell to download the [CIFAR-10 dataset for python](https://www.cs.toronto.edu/~kriz/cifar-10-python.tar.gz)."
   ]
  },
  {
   "cell_type": "code",
   "execution_count": 1,
   "metadata": {},
   "outputs": [
    {
     "name": "stderr",
     "output_type": "stream",
     "text": [
      "CIFAR-10 Dataset: 171MB [00:32, 5.27MB/s]                              \n"
     ]
    },
    {
     "name": "stdout",
     "output_type": "stream",
     "text": [
      "All files found!\n"
     ]
    }
   ],
   "source": [
    "\"\"\"\n",
    "DON'T MODIFY ANYTHING IN THIS CELL THAT IS BELOW THIS LINE\n",
    "\"\"\"\n",
    "from urllib.request import urlretrieve\n",
    "from os.path import isfile, isdir\n",
    "from tqdm import tqdm\n",
    "import problem_unittests as tests\n",
    "import tarfile\n",
    "\n",
    "cifar10_dataset_folder_path = 'cifar-10-batches-py'\n",
    "\n",
    "# Use Floyd's cifar-10 dataset if present\n",
    "floyd_cifar10_location = '/input/cifar-10/python.tar.gz'\n",
    "if isfile(floyd_cifar10_location):\n",
    "    tar_gz_path = floyd_cifar10_location\n",
    "else:\n",
    "    tar_gz_path = 'cifar-10-python.tar.gz'\n",
    "\n",
    "class DLProgress(tqdm):\n",
    "    last_block = 0\n",
    "\n",
    "    def hook(self, block_num=1, block_size=1, total_size=None):\n",
    "        self.total = total_size\n",
    "        self.update((block_num - self.last_block) * block_size)\n",
    "        self.last_block = block_num\n",
    "\n",
    "if not isfile(tar_gz_path):\n",
    "    with DLProgress(unit='B', unit_scale=True, miniters=1, desc='CIFAR-10 Dataset') as pbar:\n",
    "        urlretrieve(\n",
    "            'https://www.cs.toronto.edu/~kriz/cifar-10-python.tar.gz',\n",
    "            tar_gz_path,\n",
    "            pbar.hook)\n",
    "\n",
    "if not isdir(cifar10_dataset_folder_path):\n",
    "    with tarfile.open(tar_gz_path) as tar:\n",
    "        tar.extractall()\n",
    "        tar.close()\n",
    "\n",
    "\n",
    "tests.test_folder_path(cifar10_dataset_folder_path)"
   ]
  },
  {
   "cell_type": "markdown",
   "metadata": {},
   "source": [
    "## Explore the Data\n",
    "The dataset is broken into batches to prevent your machine from running out of memory.  The CIFAR-10 dataset consists of 5 batches, named `data_batch_1`, `data_batch_2`, etc.. Each batch contains the labels and images that are one of the following:\n",
    "* airplane\n",
    "* automobile\n",
    "* bird\n",
    "* cat\n",
    "* deer\n",
    "* dog\n",
    "* frog\n",
    "* horse\n",
    "* ship\n",
    "* truck\n",
    "\n",
    "Understanding a dataset is part of making predictions on the data.  Play around with the code cell below by changing the `batch_id` and `sample_id`. The `batch_id` is the id for a batch (1-5). The `sample_id` is the id for a image and label pair in the batch.\n",
    "\n",
    "Ask yourself \"What are all possible labels?\", \"What is the range of values for the image data?\", \"Are the labels in order or random?\".  Answers to questions like these will help you preprocess the data and end up with better predictions."
   ]
  },
  {
   "cell_type": "code",
   "execution_count": 7,
   "metadata": {},
   "outputs": [
    {
     "name": "stdout",
     "output_type": "stream",
     "text": [
      "\n",
      "Stats of batch 3:\n",
      "Samples: 10000\n",
      "Label Counts: {0: 994, 1: 1042, 2: 965, 3: 997, 4: 990, 5: 1029, 6: 978, 7: 1015, 8: 961, 9: 1029}\n",
      "First 20 Labels: [8, 5, 0, 6, 9, 2, 8, 3, 6, 2, 7, 4, 6, 9, 0, 0, 7, 3, 7, 2]\n",
      "\n",
      "Example of Image 9999:\n",
      "Image - Min Value: 3 Max Value: 242\n",
      "Image - Shape: (32, 32, 3)\n",
      "Label - Label Id: 1 Name: automobile\n"
     ]
    },
    {
     "data": {
      "image/png": "[encoded data removed]",
      "text/plain": [
       "<matplotlib.figure.Figure at 0x121046748>"
      ]
     },
     "metadata": {
      "image/png": {
       "height": 250,
       "width": 253
      }
     },
     "output_type": "display_data"
    }
   ],
   "source": [
    "%matplotlib inline\n",
    "%config InlineBackend.figure_format = 'retina'\n",
    "\n",
    "import helper\n",
    "import numpy as np\n",
    "\n",
    "# Explore the dataset\n",
    "batch_id = 3\n",
    "sample_id = 9999\n",
    "helper.display_stats(cifar10_dataset_folder_path, batch_id, sample_id)"
   ]
  },
  {
   "cell_type": "markdown",
   "metadata": {},
   "source": [
    "## Implement Preprocess Functions\n",
    "### Normalize\n",
    "In the cell below, implement the `normalize` function to take in image data, `x`, and return it as a normalized Numpy array. The values should be in the range of 0 to 1, inclusive.  The return object should be the same shape as `x`."
   ]
  },
  {
   "cell_type": "code",
   "execution_count": 9,
   "metadata": {},
   "outputs": [
    {
     "name": "stdout",
     "output_type": "stream",
     "text": [
      "Tests Passed\n"
     ]
    }
   ],
   "source": [
    "def normalize(x):\n",
    "    \"\"\"\n",
    "    Normalize a list of sample image data in the range of 0 to 1\n",
    "    : x: List of image data.  The image shape is (32, 32, 3)\n",
    "    : return: Numpy array of normalize data\n",
    "    \"\"\"\n",
    "    # TODO: Implement Function\n",
    "    return x / 255\n",
    "\n",
    "\n",
    "\"\"\"\n",
    "DON'T MODIFY ANYTHING IN THIS CELL THAT IS BELOW THIS LINE\n",
    "\"\"\"\n",
    "tests.test_normalize(normalize)"
   ]
  },
  {
   "cell_type": "markdown",
   "metadata": {},
   "source": [
    "### One-hot encode\n",
    "Just like the previous code cell, you'll be implementing a function for preprocessing.  This time, you'll implement the `one_hot_encode` function. The input, `x`, are a list of labels.  Implement the function to return the list of labels as One-Hot encoded Numpy array.  The possible values for labels are 0 to 9. The one-hot encoding function should return the same encoding for each value between each call to `one_hot_encode`.  Make sure to save the map of encodings outside the function.\n",
    "\n",
    "Hint: Don't reinvent the wheel."
   ]
  },
  {
   "cell_type": "code",
   "execution_count": 277,
   "metadata": {},
   "outputs": [
    {
     "name": "stdout",
     "output_type": "stream",
     "text": [
      "Tests Passed\n"
     ]
    }
   ],
   "source": [
    "def one_hot_encode(x):\n",
    "    \"\"\"\n",
    "    One hot encode a list of sample labels. Return a one-hot encoded vector for each label.\n",
    "    : x: List of sample Labels\n",
    "    : return: Numpy array of one-hot encoded labels\n",
    "    \"\"\"\n",
    "    # TODO: Implement Function\n",
    "    maxx = 10\n",
    "    hot = np.zeros((len(x), maxx))\n",
    "    for i in range(len(x)):\n",
    "        hot[i][x[i]] = 1.0\n",
    "    return hot\n",
    "\n",
    "\n",
    "\"\"\"\n",
    "DON'T MODIFY ANYTHING IN THIS CELL THAT IS BELOW THIS LINE\n",
    "\"\"\"\n",
    "tests.test_one_hot_encode(one_hot_encode)"
   ]
  },
  {
   "cell_type": "markdown",
   "metadata": {},
   "source": [
    "### Randomize Data\n",
    "As you saw from exploring the data above, the order of the samples are randomized.  It doesn't hurt to randomize it again, but you don't need to for this dataset."
   ]
  },
  {
   "cell_type": "markdown",
   "metadata": {},
   "source": [
    "## Preprocess all the data and save it\n",
    "Running the code cell below will preprocess all the CIFAR-10 data and save it to file. The code below also uses 10% of the training data for validation."
   ]
  },
  {
   "cell_type": "code",
   "execution_count": 31,
   "metadata": {
    "collapsed": true
   },
   "outputs": [],
   "source": [
    "\"\"\"\n",
    "DON'T MODIFY ANYTHING IN THIS CELL\n",
    "\"\"\"\n",
    "# Preprocess Training, Validation, and Testing Data\n",
    "helper.preprocess_and_save_data(cifar10_dataset_folder_path, normalize, one_hot_encode)"
   ]
  },
  {
   "cell_type": "markdown",
   "metadata": {},
   "source": [
    "# Check Point\n",
    "This is your first checkpoint.  If you ever decide to come back to this notebook or have to restart the notebook, you can start from here.  The preprocessed data has been saved to disk."
   ]
  },
  {
   "cell_type": "code",
   "execution_count": 291,
   "metadata": {
    "collapsed": true
   },
   "outputs": [],
   "source": [
    "\"\"\"\n",
    "DON'T MODIFY ANYTHING IN THIS CELL\n",
    "\"\"\"\n",
    "import pickle\n",
    "import problem_unittests as tests\n",
    "import helper\n",
    "\n",
    "# Load the Preprocessed Validation data\n",
    "valid_features, valid_labels = pickle.load(open('preprocess_validation.p', mode='rb'))"
   ]
  },
  {
   "cell_type": "markdown",
   "metadata": {},
   "source": [
    "## Build the network\n",
    "For the neural network, you'll build each layer into a function.  Most of the code you've seen has been outside of functions. To test your code more thoroughly, we require that you put each layer in a function.  This allows us to give you better feedback and test for simple mistakes using our unittests before you submit your project.\n",
    "\n",
    ">**Note:** If you're finding it hard to dedicate enough time for this course each week, we've provided a small shortcut to this part of the project. In the next couple of problems, you'll have the option to use classes from the [TensorFlow Layers](https://www.tensorflow.org/api_docs/python/tf/layers) or [TensorFlow Layers (contrib)](https://www.tensorflow.org/api_guides/python/contrib.layers) packages to build each layer, except the layers you build in the \"Convolutional and Max Pooling Layer\" section.  TF Layers is similar to Keras's and TFLearn's abstraction to layers, so it's easy to pickup.\n",
    "\n",
    ">However, if you would like to get the most out of this course, try to solve all the problems _without_ using anything from the TF Layers packages. You **can** still use classes from other packages that happen to have the same name as ones you find in TF Layers! For example, instead of using the TF Layers version of the `conv2d` class, [tf.layers.conv2d](https://www.tensorflow.org/api_docs/python/tf/layers/conv2d), you would want to use the TF Neural Network version of `conv2d`, [tf.nn.conv2d](https://www.tensorflow.org/api_docs/python/tf/nn/conv2d). \n",
    "\n",
    "Let's begin!\n",
    "\n",
    "### Input\n",
    "The neural network needs to read the image data, one-hot encoded labels, and dropout keep probability. Implement the following functions\n",
    "* Implement `neural_net_image_input`\n",
    " * Return a [TF Placeholder](https://www.tensorflow.org/api_docs/python/tf/placeholder)\n",
    " * Set the shape using `image_shape` with batch size set to `None`.\n",
    " * Name the TensorFlow placeholder \"x\" using the TensorFlow `name` parameter in the [TF Placeholder](https://www.tensorflow.org/api_docs/python/tf/placeholder).\n",
    "* Implement `neural_net_label_input`\n",
    " * Return a [TF Placeholder](https://www.tensorflow.org/api_docs/python/tf/placeholder)\n",
    " * Set the shape using `n_classes` with batch size set to `None`.\n",
    " * Name the TensorFlow placeholder \"y\" using the TensorFlow `name` parameter in the [TF Placeholder](https://www.tensorflow.org/api_docs/python/tf/placeholder).\n",
    "* Implement `neural_net_keep_prob_input`\n",
    " * Return a [TF Placeholder](https://www.tensorflow.org/api_docs/python/tf/placeholder) for dropout keep probability.\n",
    " * Name the TensorFlow placeholder \"keep_prob\" using the TensorFlow `name` parameter in the [TF Placeholder](https://www.tensorflow.org/api_docs/python/tf/placeholder).\n",
    "\n",
    "These names will be used at the end of the project to load your saved model.\n",
    "\n",
    "Note: `None` for shapes in TensorFlow allow for a dynamic size."
   ]
  },
  {
   "cell_type": "code",
   "execution_count": 292,
   "metadata": {},
   "outputs": [
    {
     "name": "stdout",
     "output_type": "stream",
     "text": [
      "Image Input Tests Passed.\n",
      "Label Input Tests Passed.\n",
      "Keep Prob Tests Passed.\n"
     ]
    }
   ],
   "source": [
    "import tensorflow as tf\n",
    "\n",
    "def neural_net_image_input(image_shape):\n",
    "    \"\"\"\n",
    "    Return a Tensor for a batch of image input\n",
    "    : image_shape: Shape of the images\n",
    "    : return: Tensor for image input.\n",
    "    \"\"\"\n",
    "    # TODO: Implement Function\n",
    "    return tf.placeholder(tf.float32, (None, image_shape[0], image_shape[1], image_shape[2]), 'x')\n",
    "\n",
    "\n",
    "def neural_net_label_input(n_classes):\n",
    "    \"\"\"\n",
    "    Return a Tensor for a batch of label input\n",
    "    : n_classes: Number of classes\n",
    "    : return: Tensor for label input.\n",
    "    \"\"\"\n",
    "    # TODO: Implement Function\n",
    "    return tf.placeholder(tf.float32, (None, n_classes), 'y')\n",
    "\n",
    "\n",
    "def neural_net_keep_prob_input():\n",
    "    \"\"\"\n",
    "    Return a Tensor for keep probability\n",
    "    : return: Tensor for keep probability.\n",
    "    \"\"\"\n",
    "    # TODO: Implement Function\n",
    "    return tf.placeholder(tf.float32, name = 'keep_prob')\n",
    "\n",
    "\n",
    "\"\"\"\n",
    "DON'T MODIFY ANYTHING IN THIS CELL THAT IS BELOW THIS LINE\n",
    "\"\"\"\n",
    "tf.reset_default_graph()\n",
    "tests.test_nn_image_inputs(neural_net_image_input)\n",
    "tests.test_nn_label_inputs(neural_net_label_input)\n",
    "tests.test_nn_keep_prob_inputs(neural_net_keep_prob_input)"
   ]
  },
  {
   "cell_type": "markdown",
   "metadata": {},
   "source": [
    "### Convolution and Max Pooling Layer\n",
    "Convolution layers have a lot of success with images. For this code cell, you should implement the function `conv2d_maxpool` to apply convolution then max pooling:\n",
    "* Create the weight and bias using `conv_ksize`, `conv_num_outputs` and the shape of `x_tensor`.\n",
    "* Apply a convolution to `x_tensor` using weight and `conv_strides`.\n",
    " * We recommend you use same padding, but you're welcome to use any padding.\n",
    "* Add bias\n",
    "* Add a nonlinear activation to the convolution.\n",
    "* Apply Max Pooling using `pool_ksize` and `pool_strides`.\n",
    " * We recommend you use same padding, but you're welcome to use any padding.\n",
    "\n",
    "**Note:** You **can't** use [TensorFlow Layers](https://www.tensorflow.org/api_docs/python/tf/layers) or [TensorFlow Layers (contrib)](https://www.tensorflow.org/api_guides/python/contrib.layers) for **this** layer, but you can still use TensorFlow's [Neural Network](https://www.tensorflow.org/api_docs/python/tf/nn) package. You may still use the shortcut option for all the **other** layers."
   ]
  },
  {
   "cell_type": "code",
   "execution_count": 293,
   "metadata": {},
   "outputs": [
    {
     "name": "stdout",
     "output_type": "stream",
     "text": [
      "Tests Passed\n"
     ]
    }
   ],
   "source": [
    "def conv2d_maxpool(x_tensor, conv_num_outputs, conv_ksize, conv_strides, pool_ksize, pool_strides):\n",
    "    \"\"\"\n",
    "    Apply convolution then max pooling to x_tensor\n",
    "    :param x_tensor: TensorFlow Tensor\n",
    "    :param conv_num_outputs: Number of outputs for the convolutional layer\n",
    "    :param conv_ksize: kernal size 2-D Tuple for the convolutional layer\n",
    "    :param conv_strides: Stride 2-D Tuple for convolution\n",
    "    :param pool_ksize: kernal size 2-D Tuple for pool\n",
    "    :param pool_strides: Stride 2-D Tuple for pool\n",
    "    : return: A tensor that represents convolution and max pooling of x_tensor\n",
    "    \"\"\"\n",
    "    # TODO: Implement Function\n",
    "    in_shape = x_tensor.get_shape().as_list()\n",
    "    F_w = tf.Variable(tf.random_normal([conv_ksize[0], conv_ksize[1], in_shape[3], conv_num_outputs]))\n",
    "    F_b = tf.Variable(tf.zeros(conv_num_outputs))\n",
    "    strides = [1, conv_strides[0], conv_strides[1], 1]\n",
    "    padding = 'SAME'\n",
    "    conv = tf.nn.conv2d(x_tensor, F_w, strides, padding)\n",
    "    conv = tf.nn.bias_add(conv, F_b)\n",
    "    conv = tf.nn.relu(conv)\n",
    "    \n",
    "    p_ksize = [1, pool_ksize[0], pool_ksize[1], 1]\n",
    "    p_strides = [1, pool_strides[0], pool_strides[1], 1]\n",
    "    output = tf.nn.max_pool(conv, p_ksize, p_strides, padding)\n",
    "    \n",
    "    return output \n",
    "\n",
    "\n",
    "\"\"\"\n",
    "DON'T MODIFY ANYTHING IN THIS CELL THAT IS BELOW THIS LINE\n",
    "\"\"\"\n",
    "tests.test_con_pool(conv2d_maxpool)"
   ]
  },
  {
   "cell_type": "markdown",
   "metadata": {},
   "source": [
    "### Flatten Layer\n",
    "Implement the `flatten` function to change the dimension of `x_tensor` from a 4-D tensor to a 2-D tensor.  The output should be the shape (*Batch Size*, *Flattened Image Size*). Shortcut option: you can use classes from the [TensorFlow Layers](https://www.tensorflow.org/api_docs/python/tf/layers) or [TensorFlow Layers (contrib)](https://www.tensorflow.org/api_guides/python/contrib.layers) packages for this layer. For more of a challenge, only use other TensorFlow packages."
   ]
  },
  {
   "cell_type": "code",
   "execution_count": 294,
   "metadata": {},
   "outputs": [
    {
     "name": "stdout",
     "output_type": "stream",
     "text": [
      "[None, 1800]\n",
      "Tests Passed\n"
     ]
    }
   ],
   "source": [
    "def flatten(x_tensor):\n",
    "    \"\"\"\n",
    "    Flatten x_tensor to (Batch Size, Flattened Image Size)\n",
    "    : x_tensor: A tensor of size (Batch Size, ...), where ... are the image dimensions.\n",
    "    : return: A tensor of size (Batch Size, Flattened Image Size).\n",
    "    \"\"\"\n",
    "    # TODO: Implement Function\n",
    "    in_shape = x_tensor.get_shape().as_list()\n",
    "    total = np.prod(in_shape[1:])\n",
    "    flat = tf.reshape(x_tensor, [-1, total])\n",
    "    print(flat.get_shape().as_list())\n",
    "    return flat\n",
    "\n",
    "\n",
    "\"\"\"\n",
    "DON'T MODIFY ANYTHING IN THIS CELL THAT IS BELOW THIS LINE\n",
    "\"\"\"\n",
    "tests.test_flatten(flatten)"
   ]
  },
  {
   "cell_type": "markdown",
   "metadata": {},
   "source": [
    "### Fully-Connected Layer\n",
    "Implement the `fully_conn` function to apply a fully connected layer to `x_tensor` with the shape (*Batch Size*, *num_outputs*). Shortcut option: you can use classes from the [TensorFlow Layers](https://www.tensorflow.org/api_docs/python/tf/layers) or [TensorFlow Layers (contrib)](https://www.tensorflow.org/api_guides/python/contrib.layers) packages for this layer. For more of a challenge, only use other TensorFlow packages."
   ]
  },
  {
   "cell_type": "code",
   "execution_count": 295,
   "metadata": {},
   "outputs": [
    {
     "name": "stdout",
     "output_type": "stream",
     "text": [
      "Tests Passed\n"
     ]
    }
   ],
   "source": [
    "def fully_conn(x_tensor, num_outputs):\n",
    "    \"\"\"\n",
    "    Apply a fully connected layer to x_tensor using weight and bias\n",
    "    : x_tensor: A 2-D tensor where the first dimension is batch size.\n",
    "    : num_outputs: The number of output that the new tensor should be.\n",
    "    : return: A 2-D tensor where the second dimension is num_outputs.\n",
    "    \"\"\"\n",
    "    # TODO: Implement Function\n",
    "    in_shape = x_tensor.get_shape().as_list()\n",
    "    weights = tf.Variable(tf.truncated_normal((in_shape[1], num_outputs), stddev=0.1 ))\n",
    "    biases = tf.Variable(tf.zeros(num_outputs))\n",
    "    output = tf.matmul(x_tensor, weights)\n",
    "    output = tf.add(output, biases)\n",
    "    return tf.nn.relu(output)\n",
    "\n",
    "\n",
    "\"\"\"\n",
    "DON'T MODIFY ANYTHING IN THIS CELL THAT IS BELOW THIS LINE\n",
    "\"\"\"\n",
    "tests.test_fully_conn(fully_conn)"
   ]
  },
  {
   "cell_type": "markdown",
   "metadata": {},
   "source": [
    "### Output Layer\n",
    "Implement the `output` function to apply a fully connected layer to `x_tensor` with the shape (*Batch Size*, *num_outputs*). Shortcut option: you can use classes from the [TensorFlow Layers](https://www.tensorflow.org/api_docs/python/tf/layers) or [TensorFlow Layers (contrib)](https://www.tensorflow.org/api_guides/python/contrib.layers) packages for this layer. For more of a challenge, only use other TensorFlow packages.\n",
    "\n",
    "**Note:** Activation, softmax, or cross entropy should **not** be applied to this."
   ]
  },
  {
   "cell_type": "code",
   "execution_count": 296,
   "metadata": {},
   "outputs": [
    {
     "name": "stdout",
     "output_type": "stream",
     "text": [
      "Tests Passed\n"
     ]
    }
   ],
   "source": [
    "def output(x_tensor, num_outputs):\n",
    "    \"\"\"\n",
    "    Apply a output layer to x_tensor using weight and bias\n",
    "    : x_tensor: A 2-D tensor where the first dimension is batch size.\n",
    "    : num_outputs: The number of output that the new tensor should be.\n",
    "    : return: A 2-D tensor where the second dimension is num_outputs.\n",
    "    \"\"\"\n",
    "    # TODO: Implement Function\n",
    "    in_shape = x_tensor.get_shape().as_list()\n",
    "    weights = tf.Variable(tf.truncated_normal((in_shape[1], num_outputs), stddev=0.1 ))\n",
    "    biases = tf.Variable(tf.zeros(num_outputs))\n",
    "    output = tf.matmul(x_tensor, weights)\n",
    "    output = tf.add(output, biases)\n",
    "    return output\n",
    "\n",
    "\"\"\"\n",
    "DON'T MODIFY ANYTHING IN THIS CELL THAT IS BELOW THIS LINE\n",
    "\"\"\"\n",
    "tests.test_output(output)"
   ]
  },
  {
   "cell_type": "markdown",
   "metadata": {},
   "source": [
    "### Create Convolutional Model\n",
    "Implement the function `conv_net` to create a convolutional neural network model. The function takes in a batch of images, `x`, and outputs logits.  Use the layers you created above to create this model:\n",
    "\n",
    "* Apply 1, 2, or 3 Convolution and Max Pool layers\n",
    "* Apply a Flatten Layer\n",
    "* Apply 1, 2, or 3 Fully Connected Layers\n",
    "* Apply an Output Layer\n",
    "* Return the output\n",
    "* Apply [TensorFlow's Dropout](https://www.tensorflow.org/api_docs/python/tf/nn/dropout) to one or more layers in the model using `keep_prob`. "
   ]
  },
  {
   "cell_type": "code",
   "execution_count": 306,
   "metadata": {},
   "outputs": [
    {
     "name": "stdout",
     "output_type": "stream",
     "text": [
      "[None, 8192]\n",
      "[None, 8192]\n",
      "Neural Network Built!\n"
     ]
    }
   ],
   "source": [
    "def conv_net(x, keep_prob):\n",
    "    \"\"\"\n",
    "    Create a convolutional neural network model\n",
    "    : x: Placeholder tensor that holds image data.\n",
    "    : keep_prob: Placeholder tensor that hold dropout keep probability.\n",
    "    : return: Tensor that represents logits\n",
    "    \"\"\"\n",
    "    # TODO: Apply 1, 2, or 3 Convolution and Max Pool layers\n",
    "    #    Play around with different number of outputs, kernel size and stride\n",
    "    # Function Definition from Above:\n",
    "    #    conv2d_maxpool(x_tensor, conv_num_outputs, conv_ksize, conv_strides, pool_ksize, pool_strides)\n",
    "    x = conv2d_maxpool(x, 128, (3,3), (2,2), (2,2), (2,2))\n",
    "    #x = tf.nn.dropout(x, keep_prob)\n",
    "    #x = conv2d_maxpool(x, 256, (3,3), (1,1), (2,2), (2,2))\n",
    "\n",
    "    # TODO: Apply a Flatten Layer\n",
    "    # Function Definition from Above:\n",
    "    #   flatten(x_tensor)\n",
    "    x = flatten(x)\n",
    "\n",
    "    # TODO: Apply 1, 2, or 3 Fully Connected Layers\n",
    "    #    Play around with different number of outputs\n",
    "    # Function Definition from Above:\n",
    "    #   fully_conn(x_tensor, num_outputs)\n",
    "    x = fully_conn(x, 2048)\n",
    "    x = tf.nn.dropout(x, keep_prob)\n",
    "    x = fully_conn(x, 512)\n",
    "    \n",
    "    # TODO: Apply an Output Layer\n",
    "    #    Set this to the number of classes\n",
    "    # Function Definition from Above:\n",
    "    #   output(x_tensor, num_outputs)\n",
    "    x = output(x, 10)\n",
    "    \n",
    "    # TODO: return output\n",
    "    return x\n",
    "\n",
    "\n",
    "\"\"\"\n",
    "DON'T MODIFY ANYTHING IN THIS CELL THAT IS BELOW THIS LINE\n",
    "\"\"\"\n",
    "\n",
    "##############################\n",
    "## Build the Neural Network ##\n",
    "##############################\n",
    "\n",
    "# Remove previous weights, bias, inputs, etc..\n",
    "tf.reset_default_graph()\n",
    "\n",
    "# Inputs\n",
    "x = neural_net_image_input((32, 32, 3))\n",
    "y = neural_net_label_input(10)\n",
    "keep_prob = neural_net_keep_prob_input()\n",
    "\n",
    "# Model\n",
    "logits = conv_net(x, keep_prob)\n",
    "\n",
    "# Name logits Tensor, so that is can be loaded from disk after training\n",
    "logits = tf.identity(logits, name='logits')\n",
    "\n",
    "# Loss and Optimizer\n",
    "cost = tf.reduce_mean(tf.nn.softmax_cross_entropy_with_logits(logits=logits, labels=y))\n",
    "optimizer = tf.train.AdamOptimizer().minimize(cost)\n",
    "\n",
    "# Accuracy\n",
    "correct_pred = tf.equal(tf.argmax(logits, 1), tf.argmax(y, 1))\n",
    "accuracy = tf.reduce_mean(tf.cast(correct_pred, tf.float32), name='accuracy')\n",
    "\n",
    "tests.test_conv_net(conv_net)"
   ]
  },
  {
   "cell_type": "markdown",
   "metadata": {},
   "source": [
    "## Train the Neural Network\n",
    "### Single Optimization\n",
    "Implement the function `train_neural_network` to do a single optimization.  The optimization should use `optimizer` to optimize in `session` with a `feed_dict` of the following:\n",
    "* `x` for image input\n",
    "* `y` for labels\n",
    "* `keep_prob` for keep probability for dropout\n",
    "\n",
    "This function will be called for each batch, so `tf.global_variables_initializer()` has already been called.\n",
    "\n",
    "Note: Nothing needs to be returned. This function is only optimizing the neural network."
   ]
  },
  {
   "cell_type": "code",
   "execution_count": 177,
   "metadata": {},
   "outputs": [
    {
     "name": "stdout",
     "output_type": "stream",
     "text": [
      "Tests Passed\n"
     ]
    }
   ],
   "source": [
    "def train_neural_network(session, optimizer, keep_probability, feature_batch, label_batch):\n",
    "    \"\"\"\n",
    "    Optimize the session on a batch of images and labels\n",
    "    : session: Current TensorFlow session\n",
    "    : optimizer: TensorFlow optimizer function\n",
    "    : keep_probability: keep probability\n",
    "    : feature_batch: Batch of Numpy image data\n",
    "    : label_batch: Batch of Numpy label data\n",
    "    \"\"\"\n",
    "    # TODO: Implement Function\n",
    "    session.run(optimizer, feed_dict={ x: feature_batch, y: label_batch, keep_prob: keep_probability })\n",
    "\n",
    "\n",
    "\"\"\"\n",
    "DON'T MODIFY ANYTHING IN THIS CELL THAT IS BELOW THIS LINE\n",
    "\"\"\"\n",
    "tests.test_train_nn(train_neural_network)"
   ]
  },
  {
   "cell_type": "markdown",
   "metadata": {},
   "source": [
    "### Show Stats\n",
    "Implement the function `print_stats` to print loss and validation accuracy.  Use the global variables `valid_features` and `valid_labels` to calculate validation accuracy.  Use a keep probability of `1.0` to calculate the loss and validation accuracy."
   ]
  },
  {
   "cell_type": "code",
   "execution_count": 178,
   "metadata": {
    "collapsed": true
   },
   "outputs": [],
   "source": [
    "def print_stats(session, feature_batch, label_batch, cost, accuracy):\n",
    "    \"\"\"\n",
    "    Print information about loss and validation accuracy\n",
    "    : session: Current TensorFlow session\n",
    "    : feature_batch: Batch of Numpy image data\n",
    "    : label_batch: Batch of Numpy label data\n",
    "    : cost: TensorFlow cost function\n",
    "    : accuracy: TensorFlow accuracy function\n",
    "    \"\"\"\n",
    "    # TODO: Implement Function\n",
    "    loss = session.run(cost, feed_dict={ x: feature_batch, y: label_batch, keep_prob: 1.0 })\n",
    "    valid_acc = session.run(accuracy, feed_dict={ x: valid_features, y: valid_labels, keep_prob: 1.0 })\n",
    "    print(\"Cost: {} Accuracy: {}\".format(loss, valid_acc))\n",
    "    "
   ]
  },
  {
   "cell_type": "markdown",
   "metadata": {},
   "source": [
    "### Hyperparameters\n",
    "Tune the following parameters:\n",
    "* Set `epochs` to the number of iterations until the network stops learning or start overfitting\n",
    "* Set `batch_size` to the highest number that your machine has memory for.  Most people set them to common sizes of memory:\n",
    " * 64\n",
    " * 128\n",
    " * 256\n",
    " * ...\n",
    "* Set `keep_probability` to the probability of keeping a node using dropout"
   ]
  },
  {
   "cell_type": "code",
   "execution_count": 302,
   "metadata": {
    "collapsed": true
   },
   "outputs": [],
   "source": [
    "# TODO: Tune Parameters\n",
    "epochs = 20\n",
    "batch_size = 64\n",
    "keep_probability = 0.7"
   ]
  },
  {
   "cell_type": "markdown",
   "metadata": {},
   "source": [
    "### Train on a Single CIFAR-10 Batch\n",
    "Instead of training the neural network on all the CIFAR-10 batches of data, let's use a single batch. This should save time while you iterate on the model to get a better accuracy.  Once the final validation accuracy is 50% or greater, run the model on all the data in the next section."
   ]
  },
  {
   "cell_type": "code",
   "execution_count": 307,
   "metadata": {},
   "outputs": [
    {
     "name": "stdout",
     "output_type": "stream",
     "text": [
      "Checking the Training on a Single Batch...\n",
      "Epoch  1, CIFAR-10 Batch 1:  Cost: 2.427372455596924 Accuracy: 0.2531999945640564\n",
      "Epoch  2, CIFAR-10 Batch 1:  Cost: 2.2857346534729004 Accuracy: 0.24619999527931213\n",
      "Epoch  3, CIFAR-10 Batch 1:  Cost: 2.034968137741089 Accuracy: 0.26980000734329224\n",
      "Epoch  4, CIFAR-10 Batch 1:  Cost: 2.0241599082946777 Accuracy: 0.2574000060558319\n",
      "Epoch  5, CIFAR-10 Batch 1:  Cost: 1.9272346496582031 Accuracy: 0.2612000107765198\n",
      "Epoch  6, CIFAR-10 Batch 1:  Cost: 2.0289065837860107 Accuracy: 0.28619998693466187\n",
      "Epoch  7, CIFAR-10 Batch 1:  Cost: 1.9777336120605469 Accuracy: 0.2802000045776367\n",
      "Epoch  8, CIFAR-10 Batch 1:  Cost: 1.7957274913787842 Accuracy: 0.31779998540878296\n",
      "Epoch  9, CIFAR-10 Batch 1:  Cost: 1.917314887046814 Accuracy: 0.3118000030517578\n",
      "Epoch 10, CIFAR-10 Batch 1:  Cost: 2.004446268081665 Accuracy: 0.31220000982284546\n",
      "Epoch 11, CIFAR-10 Batch 1:  Cost: 1.879011869430542 Accuracy: 0.326200008392334\n",
      "Epoch 12, CIFAR-10 Batch 1:  Cost: 1.90359628200531 Accuracy: 0.31360000371932983\n",
      "Epoch 13, CIFAR-10 Batch 1:  Cost: 1.876832365989685 Accuracy: 0.3203999996185303\n",
      "Epoch 14, CIFAR-10 Batch 1:  Cost: 1.7971937656402588 Accuracy: 0.3458000123500824\n",
      "Epoch 15, CIFAR-10 Batch 1:  Cost: 1.8864459991455078 Accuracy: 0.29739999771118164\n",
      "Epoch 16, CIFAR-10 Batch 1:  Cost: 1.8548412322998047 Accuracy: 0.33799999952316284\n",
      "Epoch 17, CIFAR-10 Batch 1:  Cost: 1.8541103601455688 Accuracy: 0.3070000112056732\n",
      "Epoch 18, CIFAR-10 Batch 1:  Cost: 1.7476675510406494 Accuracy: 0.3384000062942505\n",
      "Epoch 19, CIFAR-10 Batch 1:  Cost: 1.846994161605835 Accuracy: 0.2994000017642975\n",
      "Epoch 20, CIFAR-10 Batch 1:  Cost: 1.7542572021484375 Accuracy: 0.311599999666214\n"
     ]
    }
   ],
   "source": [
    "\"\"\"\n",
    "DON'T MODIFY ANYTHING IN THIS CELL\n",
    "\"\"\"\n",
    "print('Checking the Training on a Single Batch...')\n",
    "with tf.Session() as sess:\n",
    "    # Initializing the variables\n",
    "    sess.run(tf.global_variables_initializer())\n",
    "    \n",
    "    # Training cycle\n",
    "    for epoch in range(epochs):\n",
    "        batch_i = 1\n",
    "        for batch_features, batch_labels in helper.load_preprocess_training_batch(batch_i, batch_size):\n",
    "            train_neural_network(sess, optimizer, keep_probability, batch_features, batch_labels)\n",
    "        print('Epoch {:>2}, CIFAR-10 Batch {}:  '.format(epoch + 1, batch_i), end='')\n",
    "        print_stats(sess, batch_features, batch_labels, cost, accuracy)"
   ]
  },
  {
   "cell_type": "markdown",
   "metadata": {},
   "source": [
    "### Fully Train the Model\n",
    "Now that you got a good accuracy with a single CIFAR-10 batch, try it with all five batches."
   ]
  },
  {
   "cell_type": "code",
   "execution_count": 304,
   "metadata": {},
   "outputs": [
    {
     "name": "stdout",
     "output_type": "stream",
     "text": [
      "Training...\n",
      "Epoch  1, CIFAR-10 Batch 1:  Cost: 4.286091327667236 Accuracy: 0.24779999256134033\n",
      "Epoch  1, CIFAR-10 Batch 2:  Cost: 2.570568561553955 Accuracy: 0.31439998745918274\n",
      "Epoch  1, CIFAR-10 Batch 3:  Cost: 2.235355854034424 Accuracy: 0.11159999668598175\n",
      "Epoch  1, CIFAR-10 Batch 4:  Cost: 2.225986957550049 Accuracy: 0.18299999833106995\n",
      "Epoch  1, CIFAR-10 Batch 5:  Cost: 1.9871543645858765 Accuracy: 0.23680000007152557\n",
      "Epoch  2, CIFAR-10 Batch 1:  Cost: 2.0366950035095215 Accuracy: 0.24879999458789825\n",
      "Epoch  2, CIFAR-10 Batch 2:  Cost: 1.9165046215057373 Accuracy: 0.27219998836517334\n",
      "Epoch  2, CIFAR-10 Batch 3:  Cost: 1.9572467803955078 Accuracy: 0.3206000030040741\n",
      "Epoch  2, CIFAR-10 Batch 4:  Cost: 1.7218528985977173 Accuracy: 0.33739998936653137\n",
      "Epoch  2, CIFAR-10 Batch 5:  Cost: 1.788625717163086 Accuracy: 0.3418000042438507\n",
      "Epoch  3, CIFAR-10 Batch 1:  Cost: 2.0450081825256348 Accuracy: 0.3481999933719635\n",
      "Epoch  3, CIFAR-10 Batch 2:  Cost: 1.6860946416854858 Accuracy: 0.3702000081539154\n",
      "Epoch  3, CIFAR-10 Batch 3:  Cost: 1.6269012689590454 Accuracy: 0.36239999532699585\n",
      "Epoch  3, CIFAR-10 Batch 4:  Cost: 1.7293577194213867 Accuracy: 0.4043999910354614\n",
      "Epoch  3, CIFAR-10 Batch 5:  Cost: 1.6714242696762085 Accuracy: 0.3898000121116638\n",
      "Epoch  4, CIFAR-10 Batch 1:  Cost: 1.9398834705352783 Accuracy: 0.39640000462532043\n",
      "Epoch  4, CIFAR-10 Batch 2:  Cost: 1.5265157222747803 Accuracy: 0.42559999227523804\n",
      "Epoch  4, CIFAR-10 Batch 3:  Cost: 1.3473092317581177 Accuracy: 0.4146000146865845\n",
      "Epoch  4, CIFAR-10 Batch 4:  Cost: 1.6447967290878296 Accuracy: 0.4546000063419342\n",
      "Epoch  4, CIFAR-10 Batch 5:  Cost: 1.5074594020843506 Accuracy: 0.4503999948501587\n",
      "Epoch  5, CIFAR-10 Batch 1:  Cost: 1.7483196258544922 Accuracy: 0.47380000352859497\n",
      "Epoch  5, CIFAR-10 Batch 2:  Cost: 1.4046636819839478 Accuracy: 0.46059998869895935\n",
      "Epoch  5, CIFAR-10 Batch 3:  Cost: 1.1426643133163452 Accuracy: 0.47679999470710754\n",
      "Epoch  5, CIFAR-10 Batch 4:  Cost: 1.6025421619415283 Accuracy: 0.4763999879360199\n",
      "Epoch  5, CIFAR-10 Batch 5:  Cost: 1.3650705814361572 Accuracy: 0.47519999742507935\n",
      "Epoch  6, CIFAR-10 Batch 1:  Cost: 1.5110448598861694 Accuracy: 0.5031999945640564\n",
      "Epoch  6, CIFAR-10 Batch 2:  Cost: 1.2771997451782227 Accuracy: 0.4878000020980835\n",
      "Epoch  6, CIFAR-10 Batch 3:  Cost: 0.9806410670280457 Accuracy: 0.5081999897956848\n",
      "Epoch  6, CIFAR-10 Batch 4:  Cost: 1.3113869428634644 Accuracy: 0.5248000025749207\n",
      "Epoch  6, CIFAR-10 Batch 5:  Cost: 1.1830837726593018 Accuracy: 0.5192000269889832\n",
      "Epoch  7, CIFAR-10 Batch 1:  Cost: 1.4829554557800293 Accuracy: 0.504800021648407\n",
      "Epoch  7, CIFAR-10 Batch 2:  Cost: 1.2026393413543701 Accuracy: 0.5044000148773193\n",
      "Epoch  7, CIFAR-10 Batch 3:  Cost: 0.9740630388259888 Accuracy: 0.5440000295639038\n",
      "Epoch  7, CIFAR-10 Batch 4:  Cost: 1.257116675376892 Accuracy: 0.5414000153541565\n",
      "Epoch  7, CIFAR-10 Batch 5:  Cost: 1.0973222255706787 Accuracy: 0.5442000031471252\n",
      "Epoch  8, CIFAR-10 Batch 1:  Cost: 1.3665882349014282 Accuracy: 0.5595999956130981\n",
      "Epoch  8, CIFAR-10 Batch 2:  Cost: 1.1682116985321045 Accuracy: 0.5523999929428101\n",
      "Epoch  8, CIFAR-10 Batch 3:  Cost: 0.9515448808670044 Accuracy: 0.5600000023841858\n",
      "Epoch  8, CIFAR-10 Batch 4:  Cost: 1.1809539794921875 Accuracy: 0.5633999705314636\n",
      "Epoch  8, CIFAR-10 Batch 5:  Cost: 0.9476462602615356 Accuracy: 0.574999988079071\n",
      "Epoch  9, CIFAR-10 Batch 1:  Cost: 1.2215007543563843 Accuracy: 0.5821999907493591\n",
      "Epoch  9, CIFAR-10 Batch 2:  Cost: 1.0118341445922852 Accuracy: 0.5667999982833862\n",
      "Epoch  9, CIFAR-10 Batch 3:  Cost: 0.7847173810005188 Accuracy: 0.5813999772071838\n",
      "Epoch  9, CIFAR-10 Batch 4:  Cost: 1.1312204599380493 Accuracy: 0.5771999955177307\n",
      "Epoch  9, CIFAR-10 Batch 5:  Cost: 0.8633661270141602 Accuracy: 0.600600004196167\n",
      "Epoch 10, CIFAR-10 Batch 1:  Cost: 1.0330232381820679 Accuracy: 0.5946000218391418\n",
      "Epoch 10, CIFAR-10 Batch 2:  Cost: 1.0492233037948608 Accuracy: 0.5842000246047974\n",
      "Epoch 10, CIFAR-10 Batch 3:  Cost: 0.7001963257789612 Accuracy: 0.598800003528595\n",
      "Epoch 10, CIFAR-10 Batch 4:  Cost: 0.9462520480155945 Accuracy: 0.6014000177383423\n",
      "Epoch 10, CIFAR-10 Batch 5:  Cost: 0.782616376876831 Accuracy: 0.6101999878883362\n",
      "Epoch 11, CIFAR-10 Batch 1:  Cost: 0.9929823875427246 Accuracy: 0.6007999777793884\n",
      "Epoch 11, CIFAR-10 Batch 2:  Cost: 0.8916242718696594 Accuracy: 0.6114000082015991\n",
      "Epoch 11, CIFAR-10 Batch 3:  Cost: 0.6127288937568665 Accuracy: 0.6190000176429749\n",
      "Epoch 11, CIFAR-10 Batch 4:  Cost: 0.7634838223457336 Accuracy: 0.6140000224113464\n",
      "Epoch 11, CIFAR-10 Batch 5:  Cost: 0.6414443850517273 Accuracy: 0.625\n",
      "Epoch 12, CIFAR-10 Batch 1:  Cost: 0.8485472798347473 Accuracy: 0.6281999945640564\n",
      "Epoch 12, CIFAR-10 Batch 2:  Cost: 0.6310269236564636 Accuracy: 0.640999972820282\n",
      "Epoch 12, CIFAR-10 Batch 3:  Cost: 0.4756771922111511 Accuracy: 0.628600001335144\n",
      "Epoch 12, CIFAR-10 Batch 4:  Cost: 0.6446332931518555 Accuracy: 0.6323999762535095\n",
      "Epoch 12, CIFAR-10 Batch 5:  Cost: 0.5076698064804077 Accuracy: 0.6284000277519226\n",
      "Epoch 13, CIFAR-10 Batch 1:  Cost: 0.7222038507461548 Accuracy: 0.6331999897956848\n",
      "Epoch 13, CIFAR-10 Batch 2:  Cost: 0.549759030342102 Accuracy: 0.6384000182151794\n",
      "Epoch 13, CIFAR-10 Batch 3:  Cost: 0.4293028712272644 Accuracy: 0.6248000264167786\n",
      "Epoch 13, CIFAR-10 Batch 4:  Cost: 0.4874556064605713 Accuracy: 0.6312000155448914\n",
      "Epoch 13, CIFAR-10 Batch 5:  Cost: 0.4379623532295227 Accuracy: 0.6399999856948853\n",
      "Epoch 14, CIFAR-10 Batch 1:  Cost: 0.5915719270706177 Accuracy: 0.6413999795913696\n",
      "Epoch 14, CIFAR-10 Batch 2:  Cost: 0.40374094247817993 Accuracy: 0.6535999774932861\n",
      "Epoch 14, CIFAR-10 Batch 3:  Cost: 0.3531993627548218 Accuracy: 0.6190000176429749\n",
      "Epoch 14, CIFAR-10 Batch 4:  Cost: 0.42716193199157715 Accuracy: 0.6254000067710876\n",
      "Epoch 14, CIFAR-10 Batch 5:  Cost: 0.30309775471687317 Accuracy: 0.6510000228881836\n",
      "Epoch 15, CIFAR-10 Batch 1:  Cost: 0.467277467250824 Accuracy: 0.6424000263214111\n",
      "Epoch 15, CIFAR-10 Batch 2:  Cost: 0.3147854208946228 Accuracy: 0.6452000141143799\n",
      "Epoch 15, CIFAR-10 Batch 3:  Cost: 0.2531421184539795 Accuracy: 0.6322000026702881\n",
      "Epoch 15, CIFAR-10 Batch 4:  Cost: 0.311592698097229 Accuracy: 0.6395999789237976\n",
      "Epoch 15, CIFAR-10 Batch 5:  Cost: 0.2587684988975525 Accuracy: 0.6470000147819519\n",
      "Epoch 16, CIFAR-10 Batch 1:  Cost: 0.34759798645973206 Accuracy: 0.6341999769210815\n",
      "Epoch 16, CIFAR-10 Batch 2:  Cost: 0.2497410774230957 Accuracy: 0.6421999931335449\n",
      "Epoch 16, CIFAR-10 Batch 3:  Cost: 0.17778664827346802 Accuracy: 0.6226000189781189\n",
      "Epoch 16, CIFAR-10 Batch 4:  Cost: 0.2687853276729584 Accuracy: 0.626800000667572\n",
      "Epoch 16, CIFAR-10 Batch 5:  Cost: 0.1795494556427002 Accuracy: 0.6395999789237976\n",
      "Epoch 17, CIFAR-10 Batch 1:  Cost: 0.2897123694419861 Accuracy: 0.6444000005722046\n",
      "Epoch 17, CIFAR-10 Batch 2:  Cost: 0.17618519067764282 Accuracy: 0.6294000148773193\n",
      "Epoch 17, CIFAR-10 Batch 3:  Cost: 0.12744708359241486 Accuracy: 0.6376000046730042\n",
      "Epoch 17, CIFAR-10 Batch 4:  Cost: 0.2441571056842804 Accuracy: 0.6399999856948853\n",
      "Epoch 17, CIFAR-10 Batch 5:  Cost: 0.12421680986881256 Accuracy: 0.6439999938011169\n",
      "Epoch 18, CIFAR-10 Batch 1:  Cost: 0.2809861898422241 Accuracy: 0.6452000141143799\n",
      "Epoch 18, CIFAR-10 Batch 2:  Cost: 0.1067718118429184 Accuracy: 0.6407999992370605\n",
      "Epoch 18, CIFAR-10 Batch 3:  Cost: 0.12168510258197784 Accuracy: 0.642799973487854\n",
      "Epoch 18, CIFAR-10 Batch 4:  Cost: 0.16671696305274963 Accuracy: 0.629800021648407\n",
      "Epoch 18, CIFAR-10 Batch 5:  Cost: 0.10973479598760605 Accuracy: 0.6499999761581421\n",
      "Epoch 19, CIFAR-10 Batch 1:  Cost: 0.15599091351032257 Accuracy: 0.6503999829292297\n",
      "Epoch 19, CIFAR-10 Batch 2:  Cost: 0.09810399264097214 Accuracy: 0.6444000005722046\n",
      "Epoch 19, CIFAR-10 Batch 3:  Cost: 0.10983295738697052 Accuracy: 0.6179999709129333\n",
      "Epoch 19, CIFAR-10 Batch 4:  Cost: 0.08773644268512726 Accuracy: 0.6370000243186951\n",
      "Epoch 19, CIFAR-10 Batch 5:  Cost: 0.1928849220275879 Accuracy: 0.6290000081062317\n",
      "Epoch 20, CIFAR-10 Batch 1:  Cost: 0.1109330877661705 Accuracy: 0.6377999782562256\n",
      "Epoch 20, CIFAR-10 Batch 2:  Cost: 0.06420869380235672 Accuracy: 0.6444000005722046\n",
      "Epoch 20, CIFAR-10 Batch 3:  Cost: 0.10421089828014374 Accuracy: 0.6161999702453613\n",
      "Epoch 20, CIFAR-10 Batch 4:  Cost: 0.0748845562338829 Accuracy: 0.6425999999046326\n"
     ]
    },
    {
     "name": "stdout",
     "output_type": "stream",
     "text": [
      "Epoch 20, CIFAR-10 Batch 5:  Cost: 0.0646914541721344 Accuracy: 0.6449999809265137\n"
     ]
    }
   ],
   "source": [
    "\"\"\"\n",
    "DON'T MODIFY ANYTHING IN THIS CELL\n",
    "\"\"\"\n",
    "save_model_path = './image_classification'\n",
    "\n",
    "print('Training...')\n",
    "with tf.Session() as sess:\n",
    "    # Initializing the variables\n",
    "    sess.run(tf.global_variables_initializer())\n",
    "    \n",
    "    # Training cycle\n",
    "    for epoch in range(epochs):\n",
    "        # Loop over all batches\n",
    "        n_batches = 5\n",
    "        for batch_i in range(1, n_batches + 1):\n",
    "            for batch_features, batch_labels in helper.load_preprocess_training_batch(batch_i, batch_size):\n",
    "                train_neural_network(sess, optimizer, keep_probability, batch_features, batch_labels)\n",
    "            print('Epoch {:>2}, CIFAR-10 Batch {}:  '.format(epoch + 1, batch_i), end='')\n",
    "            print_stats(sess, batch_features, batch_labels, cost, accuracy)\n",
    "            \n",
    "    # Save Model\n",
    "    saver = tf.train.Saver()\n",
    "    save_path = saver.save(sess, save_model_path)"
   ]
  },
  {
   "cell_type": "markdown",
   "metadata": {},
   "source": [
    "# Checkpoint\n",
    "The model has been saved to disk.\n",
    "## Test Model\n",
    "Test your model against the test dataset.  This will be your final accuracy. You should have an accuracy greater than 50%. If you don't, keep tweaking the model architecture and parameters."
   ]
  },
  {
   "cell_type": "code",
   "execution_count": 305,
   "metadata": {},
   "outputs": [
    {
     "name": "stdout",
     "output_type": "stream",
     "text": [
      "INFO:tensorflow:Restoring parameters from ./image_classification\n",
      "Testing Accuracy: 0.649781050955414\n",
      "\n"
     ]
    },
    {
     "data": {
      "image/png": "[encoded data removed]",
      "text/plain": [
       "<matplotlib.figure.Figure at 0x11bb54438>"
      ]
     },
     "metadata": {
      "image/png": {
       "height": 319,
       "width": 355
      }
     },
     "output_type": "display_data"
    }
   ],
   "source": [
    "\"\"\"\n",
    "DON'T MODIFY ANYTHING IN THIS CELL\n",
    "\"\"\"\n",
    "%matplotlib inline\n",
    "%config InlineBackend.figure_format = 'retina'\n",
    "\n",
    "import tensorflow as tf\n",
    "import pickle\n",
    "import helper\n",
    "import random\n",
    "\n",
    "# Set batch size if not already set\n",
    "try:\n",
    "    if batch_size:\n",
    "        pass\n",
    "except NameError:\n",
    "    batch_size = 64\n",
    "\n",
    "save_model_path = './image_classification'\n",
    "n_samples = 4\n",
    "top_n_predictions = 3\n",
    "\n",
    "def test_model():\n",
    "    \"\"\"\n",
    "    Test the saved model against the test dataset\n",
    "    \"\"\"\n",
    "\n",
    "    test_features, test_labels = pickle.load(open('preprocess_test.p', mode='rb'))\n",
    "    loaded_graph = tf.Graph()\n",
    "\n",
    "    with tf.Session(graph=loaded_graph) as sess:\n",
    "        # Load model\n",
    "        loader = tf.train.import_meta_graph(save_model_path + '.meta')\n",
    "        loader.restore(sess, save_model_path)\n",
    "\n",
    "        # Get Tensors from loaded model\n",
    "        loaded_x = loaded_graph.get_tensor_by_name('x:0')\n",
    "        loaded_y = loaded_graph.get_tensor_by_name('y:0')\n",
    "        loaded_keep_prob = loaded_graph.get_tensor_by_name('keep_prob:0')\n",
    "        loaded_logits = loaded_graph.get_tensor_by_name('logits:0')\n",
    "        loaded_acc = loaded_graph.get_tensor_by_name('accuracy:0')\n",
    "        \n",
    "        # Get accuracy in batches for memory limitations\n",
    "        test_batch_acc_total = 0\n",
    "        test_batch_count = 0\n",
    "        \n",
    "        for test_feature_batch, test_label_batch in helper.batch_features_labels(test_features, test_labels, batch_size):\n",
    "            test_batch_acc_total += sess.run(\n",
    "                loaded_acc,\n",
    "                feed_dict={loaded_x: test_feature_batch, loaded_y: test_label_batch, loaded_keep_prob: 1.0})\n",
    "            test_batch_count += 1\n",
    "\n",
    "        print('Testing Accuracy: {}\\n'.format(test_batch_acc_total/test_batch_count))\n",
    "\n",
    "        # Print Random Samples\n",
    "        random_test_features, random_test_labels = tuple(zip(*random.sample(list(zip(test_features, test_labels)), n_samples)))\n",
    "        random_test_predictions = sess.run(\n",
    "            tf.nn.top_k(tf.nn.softmax(loaded_logits), top_n_predictions),\n",
    "            feed_dict={loaded_x: random_test_features, loaded_y: random_test_labels, loaded_keep_prob: 1.0})\n",
    "        helper.display_image_predictions(random_test_features, random_test_labels, random_test_predictions)\n",
    "\n",
    "\n",
    "test_model()"
   ]
  },
  {
   "cell_type": "markdown",
   "metadata": {},
   "source": [
    "## Why 50-80% Accuracy?\n",
    "You might be wondering why you can't get an accuracy any higher. First things first, 50% isn't bad for a simple CNN.  Pure guessing would get you 10% accuracy. However, you might notice people are getting scores [well above 80%](http://rodrigob.github.io/are_we_there_yet/build/classification_datasets_results.html#43494641522d3130).  That's because we haven't taught you all there is to know about neural networks. We still need to cover a few more techniques.\n",
    "## Submitting This Project\n",
    "When submitting this project, make sure to run all the cells before saving the notebook.  Save the notebook file as \"dlnd_image_classification.ipynb\" and save it as a HTML file under \"File\" -> \"Download as\".  Include the \"helper.py\" and \"problem_unittests.py\" files in your submission."
   ]
  }
 ],
 "metadata": {
  "kernelspec": {
   "display_name": "Python 3",
   "language": "python",
   "name": "python3"
  },
  "language_info": {
   "codemirror_mode": {
    "name": "ipython",
    "version": 3
   },
   "file_extension": ".py",
   "mimetype": "text/x-python",
   "name": "python",
   "nbconvert_exporter": "python",
   "pygments_lexer": "ipython3",
   "version": "3.6.1"
  }
 },
 "nbformat": 4,
 "nbformat_minor": 1
}
