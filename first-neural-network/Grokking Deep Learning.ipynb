{
 "cells": [
  {
   "cell_type": "code",
   "execution_count": 11,
   "metadata": {},
   "outputs": [
    {
     "name": "stdout",
     "output_type": "stream",
     "text": [
      "Round: 0 Error: 1135.690 Prediction: 34.500\n",
      "Round: 1 Error: 682.124 Prediction: 26.917\n",
      "Round: 2 Error: 409.701 Prediction: 21.041\n",
      "Round: 3 Error: 246.076 Prediction: 16.487\n",
      "Round: 4 Error: 147.800 Prediction: 12.957\n",
      "Round: 5 Error: 88.772 Prediction: 10.222\n",
      "Round: 6 Error: 53.319 Prediction: 8.102\n",
      "Round: 7 Error: 32.025 Prediction: 6.459\n",
      "Round: 8 Error: 19.235 Prediction: 5.186\n",
      "Round: 9 Error: 11.553 Prediction: 4.199\n",
      "Round: 10 Error: 6.939 Prediction: 3.434\n",
      "Round: 11 Error: 4.168 Prediction: 2.841\n",
      "Round: 12 Error: 2.503 Prediction: 2.382\n",
      "Round: 13 Error: 1.504 Prediction: 2.026\n",
      "Round: 14 Error: 0.903 Prediction: 1.750\n",
      "Round: 15 Error: 0.542 Prediction: 1.536\n",
      "Round: 16 Error: 0.326 Prediction: 1.371\n",
      "Round: 17 Error: 0.196 Prediction: 1.242\n",
      "Round: 18 Error: 0.118 Prediction: 1.143\n",
      "Round: 19 Error: 0.071 Prediction: 1.066\n",
      "Round: 20 Error: 0.042 Prediction: 1.006\n",
      "Round: 21 Error: 0.025 Prediction: 0.960\n",
      "Round: 22 Error: 0.015 Prediction: 0.924\n",
      "Round: 23 Error: 0.009 Prediction: 0.896\n",
      "Round: 24 Error: 0.006 Prediction: 0.874\n",
      "Round: 25 Error: 0.003 Prediction: 0.858\n",
      "Round: 26 Error: 0.002 Prediction: 0.845\n",
      "Round: 27 Error: 0.001 Prediction: 0.835\n",
      "Round: 28 Error: 0.001 Prediction: 0.827\n",
      "Round: 29 Error: 0.000 Prediction: 0.821\n",
      "Round: 30 Error: 0.000 Prediction: 0.816\n",
      "Round: 31 Error: 0.000 Prediction: 0.812\n",
      "Round: 32 Error: 0.000 Prediction: 0.810\n",
      "Round: 33 Error: 0.000 Prediction: 0.807\n",
      "Round: 34 Error: 0.000 Prediction: 0.806\n",
      "Final Prediction: 0.804\n"
     ]
    }
   ],
   "source": [
    "y = .8\n",
    "x = 15.0\n",
    "weight = 2.3\n",
    "alpha = 0.001\n",
    "for i in range(35):\n",
    "    pred = x * weight\n",
    "    raw_error = pred - y\n",
    "    error = raw_error ** 2\n",
    "    error_delta = x * raw_error\n",
    "    weight = weight - error_delta * alpha\n",
    "    print(\"Round: {} Error: {:.3f} Prediction: {:.3f}\".format(i, error, pred))\n",
    "print(\"Final Prediction: {:.3f}\".format(x*weight))"
   ]
  }
 ],
 "metadata": {
  "kernelspec": {
   "display_name": "Python 3",
   "language": "python",
   "name": "python3"
  },
  "language_info": {
   "codemirror_mode": {
    "name": "ipython",
    "version": 3
   },
   "file_extension": ".py",
   "mimetype": "text/x-python",
   "name": "python",
   "nbconvert_exporter": "python",
   "pygments_lexer": "ipython3",
   "version": "3.6.1"
  }
 },
 "nbformat": 4,
 "nbformat_minor": 2
}
